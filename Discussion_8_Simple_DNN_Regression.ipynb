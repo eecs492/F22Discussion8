{
  "nbformat": 4,
  "nbformat_minor": 0,
  "metadata": {
    "colab": {
      "provenance": [],
      "collapsed_sections": []
    },
    "kernelspec": {
      "name": "python3",
      "display_name": "Python 3"
    },
    "language_info": {
      "name": "python"
    }
  },
  "cells": [
    {
      "cell_type": "markdown",
      "source": [
        "# EECS 492 - Discussion 8\n",
        "\n",
        "This notebook is a simple example of how to use Keras, Colab and DNNs for regression. I based this on [MIT/Lex Fridman's Intro to Deep Learning Notebook](https://colab.research.google.com/github/lexfridman/mit-deep-learning/blob/master/tutorial_deep_learning_basics/deep_learning_basics.ipynb#scrollTo=0zvB05OSD7le). If you're interested in learning more about keras and various topics within Deep Learning, the notebook is a very nice start!"
      ],
      "metadata": {
        "id": "PlelHV_-EzQh"
      }
    },
    {
      "cell_type": "code",
      "source": [
        "# TensorFlow and tf.keras\n",
        "import tensorflow as tf\n",
        "from tensorflow import keras\n",
        "from tensorflow.keras import layers\n",
        "import tensorflow.keras.optimizers as optimizers\n",
        "import tensorflow.keras.models as models\n",
        "\n",
        "# Commonly used modules\n",
        "import numpy as np\n",
        "import os\n",
        "import sys\n",
        "\n",
        "# Images, plots, display, and visualization\n",
        "import matplotlib.pyplot as plt\n",
        "import pandas as pd\n",
        "import seaborn as sns"
      ],
      "metadata": {
        "id": "0zv3h3GvEv0t"
      },
      "execution_count": 1,
      "outputs": []
    },
    {
      "cell_type": "markdown",
      "source": [
        "In this example. we'll be using the Boston Housing Prices dataset. Our goal is going to be to predict house prices given some information about where the house is located.\n",
        "\n",
        "Ref. The Boston house-price data of Harrison, D. and Rubinfeld, D.L. 'Hedonic\n",
        " prices and the demand for clean air', J. Environ. Economics & Management,\n",
        " vol.5, 81-102, 1978"
      ],
      "metadata": {
        "id": "egn5UEqXFZw8"
      }
    },
    {
      "cell_type": "markdown",
      "source": [
        "\n",
        " Variables in order:\n",
        "\n",
        " CRIM  :   per capita crime rate by town\n",
        "\n",
        " ZN    :   proportion of residential land zoned for lots over 25,000 sq.ft.\n",
        "\n",
        " INDUS :   proportion of non-retail business acres per town\n",
        "\n",
        " CHAS   :  Charles River dummy variable (= 1 if tract bounds river; 0 otherwise)\n",
        "\n",
        " NOX   :   nitric oxides concentration (parts per 10 million)\n",
        "\n",
        " RM    :   average number of rooms per dwelling\n",
        "\n",
        " AGE   :  proportion of owner-occupied units built prior to 1940\n",
        "\n",
        " DIS   : weighted distances to five Boston employment centres\n",
        "\n",
        " RAD   :  index of accessibility to radial highways\n",
        "\n",
        " TAX   :  full-value property-tax rate per $10,000\n",
        "\n",
        " PTRATIO : pupil-teacher ratio by town\n",
        "\n",
        " B    :    1000(Bk - 0.63)^2 where Bk is the proportion of blacks by town\n",
        "\n",
        " LSTAT  :  % lower status of the population\n",
        "\n",
        " MEDV :   Median value of owner-occupied homes in $1000's"
      ],
      "metadata": {
        "id": "gHaBHSIJFoDw"
      }
    },
    {
      "cell_type": "markdown",
      "source": [
        "For the Boston housing dataset, we get 506 rows of data, with 13 features in each. Our task is to build a regression model that takes these 13 features as input and output a single value prediction of the \"median value of owner-occupied homes (in $1000).\"\n",
        "\n",
        "Now, we load the dataset. Loading the dataset returns four NumPy arrays:\n",
        "\n",
        "The train_images and train_labels arrays are the training set—the data the model uses to learn.\n",
        "The model is tested against the test set, the test_images, and test_labels arrays."
      ],
      "metadata": {
        "id": "P2XOiszrG5p-"
      }
    },
    {
      "cell_type": "code",
      "source": [
        "(train_features, train_labels), (test_features, test_labels) = keras.datasets.boston_housing.load_data()\n",
        "\n",
        "# get per-feature statistics (mean, standard deviation) from the training set to normalize by\n",
        "# Note that you don't need to do this for HW3 - it is already done for you. This very good standard practice\n",
        "train_mean = np.mean(train_features, axis=0)\n",
        "train_std = np.std(train_features, axis=0)\n",
        "train_features = (train_features - train_mean) / train_std"
      ],
      "metadata": {
        "colab": {
          "base_uri": "https://localhost:8080/"
        },
        "id": "oNDHuYoFFZe7",
        "outputId": "395d6c17-0e56-44a1-dd65-3be3c417c649"
      },
      "execution_count": 2,
      "outputs": [
        {
          "output_type": "stream",
          "name": "stdout",
          "text": [
            "Downloading data from https://storage.googleapis.com/tensorflow/tf-keras-datasets/boston_housing.npz\n",
            "57026/57026 [==============================] - 0s 0us/step\n"
          ]
        }
      ]
    },
    {
      "cell_type": "markdown",
      "source": [
        "Lets look at the shape (i.e., the dimensions) of the data - this will tell us if the data was generated correctly. We should have 506 data points in total, with each having 13 values."
      ],
      "metadata": {
        "id": "Un9bZJgbNkn0"
      }
    },
    {
      "cell_type": "code",
      "source": [
        "print(\"Training Data:\")\n",
        "print(train_features.shape)\n",
        "print(train_labels.shape)\n",
        "print(\"Testing Data:\")\n",
        "print(test_features.shape)\n",
        "print(test_labels.shape)"
      ],
      "metadata": {
        "colab": {
          "base_uri": "https://localhost:8080/"
        },
        "id": "bDxgorb8H45x",
        "outputId": "e099d3d9-5e60-478c-c6be-0e56b02e448a"
      },
      "execution_count": 3,
      "outputs": [
        {
          "output_type": "stream",
          "name": "stdout",
          "text": [
            "Training Data:\n",
            "(404, 13)\n",
            "(404,)\n",
            "Testing Data:\n",
            "(102, 13)\n",
            "(102,)\n"
          ]
        }
      ]
    },
    {
      "cell_type": "markdown",
      "source": [
        "Lets look at a single training example"
      ],
      "metadata": {
        "id": "J-Yx6r6wOLqP"
      }
    },
    {
      "cell_type": "code",
      "source": [
        "print(\"X:\", train_features[0])\n",
        "print(\"Y:\", train_labels[0])"
      ],
      "metadata": {
        "colab": {
          "base_uri": "https://localhost:8080/"
        },
        "id": "VRJaPrfzOP9s",
        "outputId": "139b5034-40c5-4e8b-a159-e35335d87725"
      },
      "execution_count": 4,
      "outputs": [
        {
          "output_type": "stream",
          "name": "stdout",
          "text": [
            "X: [-0.27224633 -0.48361547 -0.43576161 -0.25683275 -0.1652266  -0.1764426\n",
            "  0.81306188  0.1166983  -0.62624905 -0.59517003  1.14850044  0.44807713\n",
            "  0.8252202 ]\n",
            "Y: 15.2\n"
          ]
        }
      ]
    },
    {
      "cell_type": "code",
      "source": [
        "# The functional version - how HW 3 is set up\n",
        "def build_model():\n",
        "  inputLayer = layers.Input(shape=(13))\n",
        "  x = inputLayer\n",
        "  x = layers.Dense(20, activation=\"relu\")(x)\n",
        "  x = layers.Dense(1, activation=\"linear\")(x)\n",
        "\n",
        "  return models.Model(inputs=inputLayer, outputs=x)\n",
        "\n",
        "\n",
        "# The sequential version\n",
        "def build_model_alternative():\n",
        "    model = keras.Sequential([\n",
        "        layers.Dense(20, activation=\"relu\", input_shape=[13]),\n",
        "        layers.Dense(1)\n",
        "    ])\n",
        "\n",
        "    model.compile(optimizer=tf.train.AdamOptimizer(), \n",
        "                  loss='mse',\n",
        "                  metrics=['mae', 'mse'])\n",
        "    return model"
      ],
      "metadata": {
        "id": "_VH_72IrFF51"
      },
      "execution_count": 5,
      "outputs": []
    },
    {
      "cell_type": "code",
      "source": [
        "dnn_model = build_model()\n",
        "\n",
        "# Using SGD optimizer with a learning rate of 0.001 and mean squared error loss\n",
        "dnn_model.compile(optimizer=optimizers.SGD(learning_rate=0.001), \n",
        "                  loss='mean_squared_error',\n",
        "                  metrics=['mae', 'mse'])\n",
        "dnn_model.summary()"
      ],
      "metadata": {
        "colab": {
          "base_uri": "https://localhost:8080/"
        },
        "id": "W30JbTjkJfsj",
        "outputId": "82069a20-4797-4a57-f607-31fca47c2930"
      },
      "execution_count": 6,
      "outputs": [
        {
          "output_type": "stream",
          "name": "stdout",
          "text": [
            "Model: \"model\"\n",
            "_________________________________________________________________\n",
            " Layer (type)                Output Shape              Param #   \n",
            "=================================================================\n",
            " input_1 (InputLayer)        [(None, 13)]              0         \n",
            "                                                                 \n",
            " dense (Dense)               (None, 20)                280       \n",
            "                                                                 \n",
            " dense_1 (Dense)             (None, 1)                 21        \n",
            "                                                                 \n",
            "=================================================================\n",
            "Total params: 301\n",
            "Trainable params: 301\n",
            "Non-trainable params: 0\n",
            "_________________________________________________________________\n"
          ]
        }
      ]
    },
    {
      "cell_type": "markdown",
      "source": [
        "Lets visualize this model a bit better to see how it looks"
      ],
      "metadata": {
        "id": "efdlboaESRZb"
      }
    },
    {
      "cell_type": "code",
      "source": [
        "from keras.utils.vis_utils import plot_model\n",
        "plot_model(dnn_model, to_file='model_plot.png', show_shapes=True, show_layer_names=True)"
      ],
      "metadata": {
        "colab": {
          "base_uri": "https://localhost:8080/",
          "height": 312
        },
        "id": "uco1msn9SWRc",
        "outputId": "f1136aea-aa9e-484f-ba39-cd2a9d7f88d3"
      },
      "execution_count": 7,
      "outputs": [
        {
          "output_type": "execute_result",
          "data": {
            "image/png": "[encoded data removed]",
            "text/plain": [
              "<IPython.core.display.Image object>"
            ]
          },
          "metadata": {},
          "execution_count": 7
        }
      ]
    },
    {
      "cell_type": "code",
      "source": [
        "history = dnn_model.fit(train_features,  # The input features X\n",
        "                        train_labels,    # The target output y\n",
        "                        batch_size=32, \n",
        "                        epochs=200, \n",
        "                        verbose=1, \n",
        "                        validation_split = 0.1)\n",
        "\n",
        "# We're just adding this in here to keep track of our training history\n",
        "# This lets us analyse our performance over time - a very useful tool!\n",
        "hist = pd.DataFrame(history.history)\n",
        "hist['epoch'] = history.epoch\n",
        "\n",
        "# show RMSE measure to compare to Kaggle leaderboard on https://www.kaggle.com/c/boston-housing/leaderboard\n",
        "rmse_final = np.sqrt(float(hist['val_mae'].tail(1)))\n",
        "print()\n",
        "print('Final Root Mean Square Error on validation set: {}'.format(round(rmse_final, 3)))"
      ],
      "metadata": {
        "colab": {
          "base_uri": "https://localhost:8080/"
        },
        "id": "ZOcYlsDZJzSX",
        "outputId": "d27d0ae5-23c5-4263-a32d-17f748a4fd20"
      },
      "execution_count": 8,
      "outputs": [
        {
          "output_type": "stream",
          "name": "stdout",
          "text": [
            "Epoch 1/200\n",
            "12/12 [==============================] - 2s 48ms/step - loss: 554.0031 - mae: 21.4843 - mse: 554.0031 - val_loss: 395.5144 - val_mae: 18.7044 - val_mse: 395.5144\n",
            "Epoch 2/200\n",
            "12/12 [==============================] - 0s 13ms/step - loss: 422.1843 - mae: 18.3379 - mse: 422.1843 - val_loss: 236.5084 - val_mae: 14.2921 - val_mse: 236.5084\n",
            "Epoch 3/200\n",
            "12/12 [==============================] - 0s 6ms/step - loss: 245.0822 - mae: 13.0834 - mse: 245.0822 - val_loss: 98.7623 - val_mae: 8.6187 - val_mse: 98.7623\n",
            "Epoch 4/200\n",
            "12/12 [==============================] - 0s 13ms/step - loss: 129.5894 - mae: 8.7443 - mse: 129.5894 - val_loss: 50.5611 - val_mae: 6.1272 - val_mse: 50.5611\n",
            "Epoch 5/200\n",
            "12/12 [==============================] - 0s 8ms/step - loss: 81.1747 - mae: 6.5975 - mse: 81.1747 - val_loss: 34.5008 - val_mae: 4.9163 - val_mse: 34.5008\n",
            "Epoch 6/200\n",
            "12/12 [==============================] - 0s 6ms/step - loss: 57.0728 - mae: 5.3891 - mse: 57.0728 - val_loss: 26.8051 - val_mae: 4.2462 - val_mse: 26.8051\n",
            "Epoch 7/200\n",
            "12/12 [==============================] - 0s 12ms/step - loss: 43.6687 - mae: 4.5960 - mse: 43.6687 - val_loss: 23.5940 - val_mae: 4.0682 - val_mse: 23.5940\n",
            "Epoch 8/200\n",
            "12/12 [==============================] - 0s 9ms/step - loss: 36.3311 - mae: 4.1205 - mse: 36.3311 - val_loss: 22.1988 - val_mae: 3.8838 - val_mse: 22.1988\n",
            "Epoch 9/200\n",
            "12/12 [==============================] - 0s 9ms/step - loss: 31.9115 - mae: 3.8402 - mse: 31.9115 - val_loss: 20.2744 - val_mae: 3.6834 - val_mse: 20.2744\n",
            "Epoch 10/200\n",
            "12/12 [==============================] - 0s 6ms/step - loss: 29.4386 - mae: 3.6548 - mse: 29.4386 - val_loss: 18.6377 - val_mae: 3.4831 - val_mse: 18.6377\n",
            "Epoch 11/200\n",
            "12/12 [==============================] - 0s 9ms/step - loss: 27.8435 - mae: 3.5776 - mse: 27.8435 - val_loss: 18.7227 - val_mae: 3.4527 - val_mse: 18.7227\n",
            "Epoch 12/200\n",
            "12/12 [==============================] - 0s 10ms/step - loss: 26.5376 - mae: 3.5182 - mse: 26.5376 - val_loss: 18.4737 - val_mae: 3.3949 - val_mse: 18.4737\n",
            "Epoch 13/200\n",
            "12/12 [==============================] - 0s 8ms/step - loss: 25.5071 - mae: 3.4576 - mse: 25.5071 - val_loss: 18.0208 - val_mae: 3.3378 - val_mse: 18.0208\n",
            "Epoch 14/200\n",
            "12/12 [==============================] - 0s 7ms/step - loss: 24.6450 - mae: 3.4345 - mse: 24.6450 - val_loss: 18.0975 - val_mae: 3.2990 - val_mse: 18.0975\n",
            "Epoch 15/200\n",
            "12/12 [==============================] - 0s 9ms/step - loss: 23.8216 - mae: 3.3622 - mse: 23.8216 - val_loss: 18.0810 - val_mae: 3.2319 - val_mse: 18.0810\n",
            "Epoch 16/200\n",
            "12/12 [==============================] - 0s 10ms/step - loss: 23.2395 - mae: 3.3328 - mse: 23.2395 - val_loss: 17.5232 - val_mae: 3.2028 - val_mse: 17.5232\n",
            "Epoch 17/200\n",
            "12/12 [==============================] - 0s 6ms/step - loss: 22.5338 - mae: 3.2953 - mse: 22.5338 - val_loss: 17.0799 - val_mae: 3.1367 - val_mse: 17.0799\n",
            "Epoch 18/200\n",
            "12/12 [==============================] - 0s 7ms/step - loss: 22.1685 - mae: 3.2659 - mse: 22.1685 - val_loss: 16.7361 - val_mae: 3.1065 - val_mse: 16.7361\n",
            "Epoch 19/200\n",
            "12/12 [==============================] - 0s 11ms/step - loss: 21.7493 - mae: 3.2175 - mse: 21.7493 - val_loss: 17.5744 - val_mae: 3.1808 - val_mse: 17.5744\n",
            "Epoch 20/200\n",
            "12/12 [==============================] - 0s 8ms/step - loss: 21.3224 - mae: 3.1824 - mse: 21.3224 - val_loss: 16.9448 - val_mae: 3.1164 - val_mse: 16.9448\n",
            "Epoch 21/200\n",
            "12/12 [==============================] - 0s 9ms/step - loss: 20.7801 - mae: 3.1692 - mse: 20.7801 - val_loss: 16.2678 - val_mae: 3.0387 - val_mse: 16.2678\n",
            "Epoch 22/200\n",
            "12/12 [==============================] - 0s 11ms/step - loss: 20.4397 - mae: 3.1436 - mse: 20.4397 - val_loss: 16.0939 - val_mae: 3.0271 - val_mse: 16.0939\n",
            "Epoch 23/200\n",
            "12/12 [==============================] - 0s 7ms/step - loss: 20.1046 - mae: 3.1273 - mse: 20.1046 - val_loss: 17.3710 - val_mae: 3.1323 - val_mse: 17.3710\n",
            "Epoch 24/200\n",
            "12/12 [==============================] - 0s 10ms/step - loss: 19.6721 - mae: 3.1334 - mse: 19.6721 - val_loss: 16.4131 - val_mae: 3.0775 - val_mse: 16.4131\n",
            "Epoch 25/200\n",
            "12/12 [==============================] - 0s 13ms/step - loss: 19.3414 - mae: 3.0869 - mse: 19.3414 - val_loss: 15.5670 - val_mae: 3.0201 - val_mse: 15.5670\n",
            "Epoch 26/200\n",
            "12/12 [==============================] - 0s 9ms/step - loss: 19.0803 - mae: 3.0250 - mse: 19.0803 - val_loss: 15.7047 - val_mae: 2.9721 - val_mse: 15.7047\n",
            "Epoch 27/200\n",
            "12/12 [==============================] - 0s 7ms/step - loss: 18.7315 - mae: 3.0435 - mse: 18.7315 - val_loss: 16.3050 - val_mae: 3.0877 - val_mse: 16.3050\n",
            "Epoch 28/200\n",
            "12/12 [==============================] - 0s 13ms/step - loss: 18.4937 - mae: 3.0385 - mse: 18.4937 - val_loss: 15.5908 - val_mae: 3.0272 - val_mse: 15.5908\n",
            "Epoch 29/200\n",
            "12/12 [==============================] - 0s 9ms/step - loss: 18.1938 - mae: 2.9863 - mse: 18.1938 - val_loss: 15.9711 - val_mae: 2.9793 - val_mse: 15.9711\n",
            "Epoch 30/200\n",
            "12/12 [==============================] - 0s 10ms/step - loss: 17.8956 - mae: 3.0207 - mse: 17.8956 - val_loss: 15.6974 - val_mae: 2.9689 - val_mse: 15.6974\n",
            "Epoch 31/200\n",
            "12/12 [==============================] - 0s 12ms/step - loss: 17.5988 - mae: 2.9935 - mse: 17.5988 - val_loss: 14.7154 - val_mae: 2.9015 - val_mse: 14.7154\n",
            "Epoch 32/200\n",
            "12/12 [==============================] - 0s 14ms/step - loss: 17.3409 - mae: 2.9540 - mse: 17.3409 - val_loss: 14.7030 - val_mae: 2.9564 - val_mse: 14.7030\n",
            "Epoch 33/200\n",
            "12/12 [==============================] - 0s 13ms/step - loss: 17.0208 - mae: 2.9057 - mse: 17.0208 - val_loss: 14.9881 - val_mae: 2.9648 - val_mse: 14.9881\n",
            "Epoch 34/200\n",
            "12/12 [==============================] - 0s 10ms/step - loss: 16.7601 - mae: 2.8970 - mse: 16.7601 - val_loss: 14.3516 - val_mae: 2.9020 - val_mse: 14.3516\n",
            "Epoch 35/200\n",
            "12/12 [==============================] - 0s 16ms/step - loss: 16.6188 - mae: 2.8796 - mse: 16.6188 - val_loss: 14.0372 - val_mae: 2.8900 - val_mse: 14.0372\n",
            "Epoch 36/200\n",
            "12/12 [==============================] - 0s 13ms/step - loss: 16.3724 - mae: 2.8562 - mse: 16.3724 - val_loss: 13.9580 - val_mae: 2.8575 - val_mse: 13.9580\n",
            "Epoch 37/200\n",
            "12/12 [==============================] - 0s 9ms/step - loss: 16.0789 - mae: 2.8386 - mse: 16.0789 - val_loss: 14.2034 - val_mae: 2.9271 - val_mse: 14.2034\n",
            "Epoch 38/200\n",
            "12/12 [==============================] - 0s 7ms/step - loss: 15.8964 - mae: 2.8450 - mse: 15.8964 - val_loss: 13.4295 - val_mae: 2.8850 - val_mse: 13.4295\n",
            "Epoch 39/200\n",
            "12/12 [==============================] - 0s 9ms/step - loss: 15.7682 - mae: 2.7734 - mse: 15.7682 - val_loss: 13.3537 - val_mae: 2.8681 - val_mse: 13.3537\n",
            "Epoch 40/200\n",
            "12/12 [==============================] - 0s 10ms/step - loss: 15.6021 - mae: 2.7668 - mse: 15.6021 - val_loss: 13.1848 - val_mae: 2.8453 - val_mse: 13.1848\n",
            "Epoch 41/200\n",
            "12/12 [==============================] - 0s 6ms/step - loss: 15.3757 - mae: 2.7494 - mse: 15.3757 - val_loss: 12.8920 - val_mae: 2.8089 - val_mse: 12.8920\n",
            "Epoch 42/200\n",
            "12/12 [==============================] - 0s 9ms/step - loss: 15.2280 - mae: 2.7385 - mse: 15.2280 - val_loss: 12.8230 - val_mae: 2.8200 - val_mse: 12.8230\n",
            "Epoch 43/200\n",
            "12/12 [==============================] - 0s 11ms/step - loss: 15.0232 - mae: 2.7035 - mse: 15.0232 - val_loss: 13.1551 - val_mae: 2.8338 - val_mse: 13.1551\n",
            "Epoch 44/200\n",
            "12/12 [==============================] - 0s 10ms/step - loss: 14.8109 - mae: 2.7199 - mse: 14.8109 - val_loss: 13.1567 - val_mae: 2.8647 - val_mse: 13.1567\n",
            "Epoch 45/200\n",
            "12/12 [==============================] - 0s 10ms/step - loss: 14.6396 - mae: 2.6805 - mse: 14.6396 - val_loss: 12.9125 - val_mae: 2.8463 - val_mse: 12.9125\n",
            "Epoch 46/200\n",
            "12/12 [==============================] - 0s 12ms/step - loss: 14.4212 - mae: 2.6507 - mse: 14.4212 - val_loss: 13.5007 - val_mae: 2.9328 - val_mse: 13.5007\n",
            "Epoch 47/200\n",
            "12/12 [==============================] - 0s 10ms/step - loss: 14.2100 - mae: 2.6381 - mse: 14.2100 - val_loss: 12.5479 - val_mae: 2.7432 - val_mse: 12.5479\n",
            "Epoch 48/200\n",
            "12/12 [==============================] - 0s 13ms/step - loss: 14.0944 - mae: 2.6231 - mse: 14.0944 - val_loss: 12.5954 - val_mae: 2.7934 - val_mse: 12.5954\n",
            "Epoch 49/200\n",
            "12/12 [==============================] - 0s 11ms/step - loss: 13.8619 - mae: 2.6106 - mse: 13.8619 - val_loss: 12.3661 - val_mae: 2.7814 - val_mse: 12.3661\n",
            "Epoch 50/200\n",
            "12/12 [==============================] - 0s 8ms/step - loss: 13.6839 - mae: 2.5759 - mse: 13.6839 - val_loss: 11.6268 - val_mae: 2.6672 - val_mse: 11.6268\n",
            "Epoch 51/200\n",
            "12/12 [==============================] - 0s 11ms/step - loss: 13.4723 - mae: 2.5638 - mse: 13.4723 - val_loss: 11.8271 - val_mae: 2.7207 - val_mse: 11.8271\n",
            "Epoch 52/200\n",
            "12/12 [==============================] - 0s 11ms/step - loss: 13.3139 - mae: 2.5429 - mse: 13.3139 - val_loss: 11.7728 - val_mae: 2.6866 - val_mse: 11.7728\n",
            "Epoch 53/200\n",
            "12/12 [==============================] - 0s 11ms/step - loss: 13.1888 - mae: 2.5449 - mse: 13.1888 - val_loss: 12.2154 - val_mae: 2.7661 - val_mse: 12.2154\n",
            "Epoch 54/200\n",
            "12/12 [==============================] - 0s 12ms/step - loss: 13.1226 - mae: 2.5227 - mse: 13.1226 - val_loss: 11.8452 - val_mae: 2.6927 - val_mse: 11.8452\n",
            "Epoch 55/200\n",
            "12/12 [==============================] - 0s 10ms/step - loss: 12.9791 - mae: 2.5254 - mse: 12.9791 - val_loss: 11.6574 - val_mae: 2.6977 - val_mse: 11.6574\n",
            "Epoch 56/200\n",
            "12/12 [==============================] - 0s 12ms/step - loss: 12.8249 - mae: 2.5068 - mse: 12.8249 - val_loss: 11.1797 - val_mae: 2.6270 - val_mse: 11.1797\n",
            "Epoch 57/200\n",
            "12/12 [==============================] - 0s 6ms/step - loss: 12.6777 - mae: 2.4793 - mse: 12.6777 - val_loss: 11.1449 - val_mae: 2.6425 - val_mse: 11.1449\n",
            "Epoch 58/200\n",
            "12/12 [==============================] - 0s 7ms/step - loss: 12.5987 - mae: 2.4648 - mse: 12.5987 - val_loss: 11.2445 - val_mae: 2.6267 - val_mse: 11.2445\n",
            "Epoch 59/200\n",
            "12/12 [==============================] - 0s 6ms/step - loss: 12.4147 - mae: 2.4524 - mse: 12.4147 - val_loss: 11.2718 - val_mae: 2.6568 - val_mse: 11.2718\n",
            "Epoch 60/200\n",
            "12/12 [==============================] - 0s 9ms/step - loss: 12.2796 - mae: 2.4544 - mse: 12.2796 - val_loss: 10.9940 - val_mae: 2.6398 - val_mse: 10.9940\n",
            "Epoch 61/200\n",
            "12/12 [==============================] - 0s 17ms/step - loss: 12.1619 - mae: 2.4350 - mse: 12.1619 - val_loss: 10.8779 - val_mae: 2.6513 - val_mse: 10.8779\n",
            "Epoch 62/200\n",
            "12/12 [==============================] - 0s 8ms/step - loss: 12.0786 - mae: 2.4073 - mse: 12.0786 - val_loss: 11.0481 - val_mae: 2.7055 - val_mse: 11.0481\n",
            "Epoch 63/200\n",
            "12/12 [==============================] - 0s 10ms/step - loss: 12.0395 - mae: 2.4051 - mse: 12.0395 - val_loss: 10.6943 - val_mae: 2.6019 - val_mse: 10.6943\n",
            "Epoch 64/200\n",
            "12/12 [==============================] - 0s 6ms/step - loss: 11.8586 - mae: 2.3979 - mse: 11.8586 - val_loss: 10.2695 - val_mae: 2.5569 - val_mse: 10.2695\n",
            "Epoch 65/200\n",
            "12/12 [==============================] - 0s 7ms/step - loss: 11.8203 - mae: 2.3885 - mse: 11.8203 - val_loss: 10.4200 - val_mae: 2.5711 - val_mse: 10.4200\n",
            "Epoch 66/200\n",
            "12/12 [==============================] - 0s 9ms/step - loss: 11.6597 - mae: 2.3818 - mse: 11.6597 - val_loss: 10.1131 - val_mae: 2.5411 - val_mse: 10.1131\n",
            "Epoch 67/200\n",
            "12/12 [==============================] - 0s 8ms/step - loss: 11.5492 - mae: 2.3612 - mse: 11.5492 - val_loss: 10.1214 - val_mae: 2.5537 - val_mse: 10.1214\n",
            "Epoch 68/200\n",
            "12/12 [==============================] - 0s 8ms/step - loss: 11.4377 - mae: 2.3552 - mse: 11.4377 - val_loss: 10.1200 - val_mae: 2.5352 - val_mse: 10.1200\n",
            "Epoch 69/200\n",
            "12/12 [==============================] - 0s 11ms/step - loss: 11.4217 - mae: 2.3684 - mse: 11.4217 - val_loss: 9.8455 - val_mae: 2.4989 - val_mse: 9.8455\n",
            "Epoch 70/200\n",
            "12/12 [==============================] - 0s 7ms/step - loss: 11.2777 - mae: 2.3554 - mse: 11.2777 - val_loss: 9.7197 - val_mae: 2.4926 - val_mse: 9.7197\n",
            "Epoch 71/200\n",
            "12/12 [==============================] - 0s 7ms/step - loss: 11.2468 - mae: 2.3485 - mse: 11.2468 - val_loss: 9.8673 - val_mae: 2.5336 - val_mse: 9.8673\n",
            "Epoch 72/200\n",
            "12/12 [==============================] - 0s 6ms/step - loss: 11.1532 - mae: 2.3322 - mse: 11.1532 - val_loss: 9.5647 - val_mae: 2.4808 - val_mse: 9.5647\n",
            "Epoch 73/200\n",
            "12/12 [==============================] - 0s 12ms/step - loss: 11.0784 - mae: 2.3238 - mse: 11.0784 - val_loss: 9.5504 - val_mae: 2.4825 - val_mse: 9.5504\n",
            "Epoch 74/200\n",
            "12/12 [==============================] - 0s 8ms/step - loss: 11.0416 - mae: 2.3201 - mse: 11.0416 - val_loss: 9.3092 - val_mae: 2.4300 - val_mse: 9.3092\n",
            "Epoch 75/200\n",
            "12/12 [==============================] - 0s 8ms/step - loss: 10.9790 - mae: 2.3071 - mse: 10.9790 - val_loss: 9.8250 - val_mae: 2.5924 - val_mse: 9.8250\n",
            "Epoch 76/200\n",
            "12/12 [==============================] - 0s 8ms/step - loss: 10.9704 - mae: 2.3136 - mse: 10.9704 - val_loss: 9.6676 - val_mae: 2.5356 - val_mse: 9.6676\n",
            "Epoch 77/200\n",
            "12/12 [==============================] - 0s 7ms/step - loss: 10.8362 - mae: 2.3018 - mse: 10.8362 - val_loss: 9.3965 - val_mae: 2.4760 - val_mse: 9.3965\n",
            "Epoch 78/200\n",
            "12/12 [==============================] - 0s 8ms/step - loss: 10.7385 - mae: 2.2937 - mse: 10.7385 - val_loss: 9.0837 - val_mae: 2.4051 - val_mse: 9.0837\n",
            "Epoch 79/200\n",
            "12/12 [==============================] - 0s 9ms/step - loss: 10.7990 - mae: 2.2949 - mse: 10.7990 - val_loss: 9.6700 - val_mae: 2.4775 - val_mse: 9.6700\n",
            "Epoch 80/200\n",
            "12/12 [==============================] - 0s 13ms/step - loss: 10.6966 - mae: 2.3114 - mse: 10.6966 - val_loss: 9.6714 - val_mae: 2.5413 - val_mse: 9.6714\n",
            "Epoch 81/200\n",
            "12/12 [==============================] - 0s 9ms/step - loss: 10.6458 - mae: 2.2891 - mse: 10.6458 - val_loss: 9.4579 - val_mae: 2.4975 - val_mse: 9.4579\n",
            "Epoch 82/200\n",
            "12/12 [==============================] - 0s 12ms/step - loss: 10.5343 - mae: 2.2751 - mse: 10.5343 - val_loss: 9.3780 - val_mae: 2.4864 - val_mse: 9.3780\n",
            "Epoch 83/200\n",
            "12/12 [==============================] - 0s 13ms/step - loss: 10.5203 - mae: 2.2734 - mse: 10.5203 - val_loss: 9.1405 - val_mae: 2.4122 - val_mse: 9.1405\n",
            "Epoch 84/200\n",
            "12/12 [==============================] - 0s 9ms/step - loss: 10.4765 - mae: 2.2790 - mse: 10.4765 - val_loss: 9.3881 - val_mae: 2.5202 - val_mse: 9.3881\n",
            "Epoch 85/200\n",
            "12/12 [==============================] - 0s 15ms/step - loss: 10.4190 - mae: 2.2507 - mse: 10.4190 - val_loss: 9.3513 - val_mae: 2.4858 - val_mse: 9.3513\n",
            "Epoch 86/200\n",
            "12/12 [==============================] - 0s 14ms/step - loss: 10.3969 - mae: 2.2559 - mse: 10.3969 - val_loss: 8.9336 - val_mae: 2.3948 - val_mse: 8.9336\n",
            "Epoch 87/200\n",
            "12/12 [==============================] - 0s 14ms/step - loss: 10.3197 - mae: 2.2487 - mse: 10.3197 - val_loss: 9.0470 - val_mae: 2.4372 - val_mse: 9.0470\n",
            "Epoch 88/200\n",
            "12/12 [==============================] - 0s 12ms/step - loss: 10.2268 - mae: 2.2415 - mse: 10.2268 - val_loss: 8.6759 - val_mae: 2.3650 - val_mse: 8.6759\n",
            "Epoch 89/200\n",
            "12/12 [==============================] - 0s 4ms/step - loss: 10.1496 - mae: 2.2187 - mse: 10.1496 - val_loss: 8.5724 - val_mae: 2.3213 - val_mse: 8.5724\n",
            "Epoch 90/200\n",
            "12/12 [==============================] - 0s 4ms/step - loss: 10.1868 - mae: 2.2309 - mse: 10.1868 - val_loss: 8.7824 - val_mae: 2.3234 - val_mse: 8.7824\n",
            "Epoch 91/200\n",
            "12/12 [==============================] - 0s 4ms/step - loss: 10.1892 - mae: 2.2490 - mse: 10.1892 - val_loss: 8.6603 - val_mae: 2.3509 - val_mse: 8.6603\n",
            "Epoch 92/200\n",
            "12/12 [==============================] - 0s 4ms/step - loss: 10.0259 - mae: 2.2265 - mse: 10.0259 - val_loss: 9.0918 - val_mae: 2.4956 - val_mse: 9.0918\n",
            "Epoch 93/200\n",
            "12/12 [==============================] - 0s 4ms/step - loss: 10.0357 - mae: 2.2125 - mse: 10.0357 - val_loss: 8.7135 - val_mae: 2.3916 - val_mse: 8.7135\n",
            "Epoch 94/200\n",
            "12/12 [==============================] - 0s 4ms/step - loss: 10.0204 - mae: 2.2131 - mse: 10.0204 - val_loss: 8.6562 - val_mae: 2.3844 - val_mse: 8.6562\n",
            "Epoch 95/200\n",
            "12/12 [==============================] - 0s 7ms/step - loss: 9.8800 - mae: 2.1935 - mse: 9.8800 - val_loss: 8.5203 - val_mae: 2.3444 - val_mse: 8.5203\n",
            "Epoch 96/200\n",
            "12/12 [==============================] - 0s 5ms/step - loss: 9.9041 - mae: 2.2030 - mse: 9.9041 - val_loss: 8.5911 - val_mae: 2.3653 - val_mse: 8.5911\n",
            "Epoch 97/200\n",
            "12/12 [==============================] - 0s 5ms/step - loss: 9.8217 - mae: 2.1969 - mse: 9.8217 - val_loss: 8.5412 - val_mae: 2.3670 - val_mse: 8.5412\n",
            "Epoch 98/200\n",
            "12/12 [==============================] - 0s 4ms/step - loss: 9.7637 - mae: 2.1878 - mse: 9.7637 - val_loss: 8.3163 - val_mae: 2.3209 - val_mse: 8.3163\n",
            "Epoch 99/200\n",
            "12/12 [==============================] - 0s 4ms/step - loss: 9.7451 - mae: 2.1845 - mse: 9.7451 - val_loss: 8.3050 - val_mae: 2.3284 - val_mse: 8.3050\n",
            "Epoch 100/200\n",
            "12/12 [==============================] - 0s 6ms/step - loss: 9.6880 - mae: 2.1649 - mse: 9.6880 - val_loss: 8.2725 - val_mae: 2.3248 - val_mse: 8.2725\n",
            "Epoch 101/200\n",
            "12/12 [==============================] - 0s 4ms/step - loss: 9.6548 - mae: 2.1728 - mse: 9.6548 - val_loss: 8.2240 - val_mae: 2.3440 - val_mse: 8.2240\n",
            "Epoch 102/200\n",
            "12/12 [==============================] - 0s 4ms/step - loss: 9.5953 - mae: 2.1476 - mse: 9.5953 - val_loss: 8.0536 - val_mae: 2.2807 - val_mse: 8.0536\n",
            "Epoch 103/200\n",
            "12/12 [==============================] - 0s 4ms/step - loss: 9.5372 - mae: 2.1695 - mse: 9.5372 - val_loss: 8.2660 - val_mae: 2.3488 - val_mse: 8.2660\n",
            "Epoch 104/200\n",
            "12/12 [==============================] - 0s 4ms/step - loss: 9.5447 - mae: 2.1445 - mse: 9.5447 - val_loss: 8.3730 - val_mae: 2.3901 - val_mse: 8.3730\n",
            "Epoch 105/200\n",
            "12/12 [==============================] - 0s 7ms/step - loss: 9.5442 - mae: 2.1422 - mse: 9.5442 - val_loss: 8.1741 - val_mae: 2.3203 - val_mse: 8.1741\n",
            "Epoch 106/200\n",
            "12/12 [==============================] - 0s 4ms/step - loss: 9.5153 - mae: 2.1410 - mse: 9.5153 - val_loss: 8.2909 - val_mae: 2.3477 - val_mse: 8.2909\n",
            "Epoch 107/200\n",
            "12/12 [==============================] - 0s 4ms/step - loss: 9.4659 - mae: 2.1487 - mse: 9.4659 - val_loss: 8.1532 - val_mae: 2.3007 - val_mse: 8.1532\n",
            "Epoch 108/200\n",
            "12/12 [==============================] - 0s 4ms/step - loss: 9.4427 - mae: 2.1495 - mse: 9.4427 - val_loss: 8.3447 - val_mae: 2.3392 - val_mse: 8.3447\n",
            "Epoch 109/200\n",
            "12/12 [==============================] - 0s 4ms/step - loss: 9.3733 - mae: 2.1406 - mse: 9.3733 - val_loss: 8.2049 - val_mae: 2.3093 - val_mse: 8.2049\n",
            "Epoch 110/200\n",
            "12/12 [==============================] - 0s 5ms/step - loss: 9.3649 - mae: 2.1408 - mse: 9.3649 - val_loss: 8.1181 - val_mae: 2.2790 - val_mse: 8.1181\n",
            "Epoch 111/200\n",
            "12/12 [==============================] - 0s 5ms/step - loss: 9.3450 - mae: 2.1172 - mse: 9.3450 - val_loss: 8.2430 - val_mae: 2.3117 - val_mse: 8.2430\n",
            "Epoch 112/200\n",
            "12/12 [==============================] - 0s 5ms/step - loss: 9.3091 - mae: 2.1210 - mse: 9.3091 - val_loss: 8.1725 - val_mae: 2.3338 - val_mse: 8.1725\n",
            "Epoch 113/200\n",
            "12/12 [==============================] - 0s 4ms/step - loss: 9.2248 - mae: 2.1078 - mse: 9.2248 - val_loss: 8.1930 - val_mae: 2.3168 - val_mse: 8.1930\n",
            "Epoch 114/200\n",
            "12/12 [==============================] - 0s 4ms/step - loss: 9.2626 - mae: 2.1189 - mse: 9.2626 - val_loss: 8.1250 - val_mae: 2.2889 - val_mse: 8.1250\n",
            "Epoch 115/200\n",
            "12/12 [==============================] - 0s 5ms/step - loss: 9.2651 - mae: 2.1187 - mse: 9.2651 - val_loss: 8.1423 - val_mae: 2.3237 - val_mse: 8.1423\n",
            "Epoch 116/200\n",
            "12/12 [==============================] - 0s 4ms/step - loss: 9.1624 - mae: 2.1046 - mse: 9.1624 - val_loss: 8.0192 - val_mae: 2.3551 - val_mse: 8.0192\n",
            "Epoch 117/200\n",
            "12/12 [==============================] - 0s 4ms/step - loss: 9.2249 - mae: 2.1005 - mse: 9.2249 - val_loss: 7.8756 - val_mae: 2.3080 - val_mse: 7.8756\n",
            "Epoch 118/200\n",
            "12/12 [==============================] - 0s 4ms/step - loss: 9.1396 - mae: 2.0957 - mse: 9.1396 - val_loss: 7.9395 - val_mae: 2.3142 - val_mse: 7.9395\n",
            "Epoch 119/200\n",
            "12/12 [==============================] - 0s 6ms/step - loss: 9.0959 - mae: 2.0893 - mse: 9.0959 - val_loss: 7.9086 - val_mae: 2.3017 - val_mse: 7.9086\n",
            "Epoch 120/200\n",
            "12/12 [==============================] - 0s 4ms/step - loss: 9.0576 - mae: 2.0937 - mse: 9.0576 - val_loss: 8.0713 - val_mae: 2.3658 - val_mse: 8.0713\n",
            "Epoch 121/200\n",
            "12/12 [==============================] - 0s 5ms/step - loss: 9.0483 - mae: 2.0938 - mse: 9.0483 - val_loss: 7.9237 - val_mae: 2.2900 - val_mse: 7.9237\n",
            "Epoch 122/200\n",
            "12/12 [==============================] - 0s 4ms/step - loss: 9.0404 - mae: 2.0891 - mse: 9.0404 - val_loss: 8.0452 - val_mae: 2.3406 - val_mse: 8.0452\n",
            "Epoch 123/200\n",
            "12/12 [==============================] - 0s 5ms/step - loss: 9.0550 - mae: 2.0829 - mse: 9.0550 - val_loss: 7.8357 - val_mae: 2.2716 - val_mse: 7.8357\n",
            "Epoch 124/200\n",
            "12/12 [==============================] - 0s 4ms/step - loss: 8.9722 - mae: 2.0886 - mse: 8.9722 - val_loss: 7.7662 - val_mae: 2.2549 - val_mse: 7.7662\n",
            "Epoch 125/200\n",
            "12/12 [==============================] - 0s 4ms/step - loss: 8.9869 - mae: 2.0925 - mse: 8.9869 - val_loss: 7.9739 - val_mae: 2.3592 - val_mse: 7.9739\n",
            "Epoch 126/200\n",
            "12/12 [==============================] - 0s 4ms/step - loss: 8.9650 - mae: 2.0765 - mse: 8.9650 - val_loss: 7.8504 - val_mae: 2.3015 - val_mse: 7.8504\n",
            "Epoch 127/200\n",
            "12/12 [==============================] - 0s 5ms/step - loss: 8.9328 - mae: 2.0638 - mse: 8.9328 - val_loss: 7.9325 - val_mae: 2.3241 - val_mse: 7.9325\n",
            "Epoch 128/200\n",
            "12/12 [==============================] - 0s 4ms/step - loss: 8.9467 - mae: 2.0848 - mse: 8.9467 - val_loss: 7.9360 - val_mae: 2.3367 - val_mse: 7.9360\n",
            "Epoch 129/200\n",
            "12/12 [==============================] - 0s 4ms/step - loss: 8.9330 - mae: 2.0754 - mse: 8.9330 - val_loss: 7.6438 - val_mae: 2.2364 - val_mse: 7.6438\n",
            "Epoch 130/200\n",
            "12/12 [==============================] - 0s 4ms/step - loss: 8.9209 - mae: 2.0743 - mse: 8.9209 - val_loss: 7.6419 - val_mae: 2.2530 - val_mse: 7.6419\n",
            "Epoch 131/200\n",
            "12/12 [==============================] - 0s 4ms/step - loss: 8.8417 - mae: 2.0667 - mse: 8.8417 - val_loss: 7.6761 - val_mae: 2.2819 - val_mse: 7.6761\n",
            "Epoch 132/200\n",
            "12/12 [==============================] - 0s 4ms/step - loss: 8.8363 - mae: 2.0745 - mse: 8.8363 - val_loss: 7.5837 - val_mae: 2.2559 - val_mse: 7.5837\n",
            "Epoch 133/200\n",
            "12/12 [==============================] - 0s 4ms/step - loss: 8.8060 - mae: 2.0509 - mse: 8.8060 - val_loss: 7.7106 - val_mae: 2.2975 - val_mse: 7.7106\n",
            "Epoch 134/200\n",
            "12/12 [==============================] - 0s 4ms/step - loss: 8.8136 - mae: 2.0520 - mse: 8.8136 - val_loss: 7.7068 - val_mae: 2.3034 - val_mse: 7.7068\n",
            "Epoch 135/200\n",
            "12/12 [==============================] - 0s 4ms/step - loss: 8.7711 - mae: 2.0483 - mse: 8.7711 - val_loss: 7.5679 - val_mae: 2.2411 - val_mse: 7.5679\n",
            "Epoch 136/200\n",
            "12/12 [==============================] - 0s 4ms/step - loss: 8.7524 - mae: 2.0433 - mse: 8.7524 - val_loss: 7.5060 - val_mae: 2.2175 - val_mse: 7.5060\n",
            "Epoch 137/200\n",
            "12/12 [==============================] - 0s 5ms/step - loss: 8.7649 - mae: 2.0420 - mse: 8.7649 - val_loss: 7.6689 - val_mae: 2.2999 - val_mse: 7.6689\n",
            "Epoch 138/200\n",
            "12/12 [==============================] - 0s 4ms/step - loss: 8.7720 - mae: 2.0509 - mse: 8.7720 - val_loss: 7.4735 - val_mae: 2.2150 - val_mse: 7.4735\n",
            "Epoch 139/200\n",
            "12/12 [==============================] - 0s 4ms/step - loss: 8.7216 - mae: 2.0466 - mse: 8.7216 - val_loss: 7.5441 - val_mae: 2.2553 - val_mse: 7.5441\n",
            "Epoch 140/200\n",
            "12/12 [==============================] - 0s 5ms/step - loss: 8.6934 - mae: 2.0358 - mse: 8.6934 - val_loss: 7.5204 - val_mae: 2.2302 - val_mse: 7.5204\n",
            "Epoch 141/200\n",
            "12/12 [==============================] - 0s 4ms/step - loss: 8.6950 - mae: 2.0336 - mse: 8.6950 - val_loss: 7.7381 - val_mae: 2.3852 - val_mse: 7.7381\n",
            "Epoch 142/200\n",
            "12/12 [==============================] - 0s 4ms/step - loss: 8.7104 - mae: 2.0383 - mse: 8.7104 - val_loss: 7.3631 - val_mae: 2.2346 - val_mse: 7.3631\n",
            "Epoch 143/200\n",
            "12/12 [==============================] - 0s 4ms/step - loss: 8.6985 - mae: 2.0394 - mse: 8.6985 - val_loss: 7.3293 - val_mae: 2.2108 - val_mse: 7.3293\n",
            "Epoch 144/200\n",
            "12/12 [==============================] - 0s 4ms/step - loss: 8.6417 - mae: 2.0269 - mse: 8.6417 - val_loss: 7.4735 - val_mae: 2.2143 - val_mse: 7.4735\n",
            "Epoch 145/200\n",
            "12/12 [==============================] - 0s 5ms/step - loss: 8.6776 - mae: 2.0425 - mse: 8.6776 - val_loss: 7.4865 - val_mae: 2.2550 - val_mse: 7.4865\n",
            "Epoch 146/200\n",
            "12/12 [==============================] - 0s 4ms/step - loss: 8.5726 - mae: 2.0329 - mse: 8.5726 - val_loss: 7.4461 - val_mae: 2.2580 - val_mse: 7.4461\n",
            "Epoch 147/200\n",
            "12/12 [==============================] - 0s 4ms/step - loss: 8.5314 - mae: 2.0230 - mse: 8.5314 - val_loss: 7.5840 - val_mae: 2.2355 - val_mse: 7.5840\n",
            "Epoch 148/200\n",
            "12/12 [==============================] - 0s 4ms/step - loss: 8.5372 - mae: 2.0266 - mse: 8.5372 - val_loss: 7.5673 - val_mae: 2.2546 - val_mse: 7.5673\n",
            "Epoch 149/200\n",
            "12/12 [==============================] - 0s 5ms/step - loss: 8.5320 - mae: 2.0243 - mse: 8.5320 - val_loss: 7.5008 - val_mae: 2.2606 - val_mse: 7.5008\n",
            "Epoch 150/200\n",
            "12/12 [==============================] - 0s 6ms/step - loss: 8.5602 - mae: 2.0320 - mse: 8.5602 - val_loss: 7.4924 - val_mae: 2.2630 - val_mse: 7.4924\n",
            "Epoch 151/200\n",
            "12/12 [==============================] - 0s 5ms/step - loss: 8.4845 - mae: 2.0129 - mse: 8.4845 - val_loss: 7.4290 - val_mae: 2.2509 - val_mse: 7.4290\n",
            "Epoch 152/200\n",
            "12/12 [==============================] - 0s 4ms/step - loss: 8.4758 - mae: 2.0155 - mse: 8.4758 - val_loss: 7.5262 - val_mae: 2.3067 - val_mse: 7.5262\n",
            "Epoch 153/200\n",
            "12/12 [==============================] - 0s 6ms/step - loss: 8.5015 - mae: 1.9981 - mse: 8.5015 - val_loss: 7.3535 - val_mae: 2.2476 - val_mse: 7.3535\n",
            "Epoch 154/200\n",
            "12/12 [==============================] - 0s 4ms/step - loss: 8.4324 - mae: 1.9948 - mse: 8.4324 - val_loss: 7.2582 - val_mae: 2.2172 - val_mse: 7.2582\n",
            "Epoch 155/200\n",
            "12/12 [==============================] - 0s 4ms/step - loss: 8.4784 - mae: 2.0185 - mse: 8.4784 - val_loss: 7.2528 - val_mae: 2.2218 - val_mse: 7.2528\n",
            "Epoch 156/200\n",
            "12/12 [==============================] - 0s 4ms/step - loss: 8.4118 - mae: 1.9981 - mse: 8.4118 - val_loss: 7.3023 - val_mae: 2.2373 - val_mse: 7.3023\n",
            "Epoch 157/200\n",
            "12/12 [==============================] - 0s 5ms/step - loss: 8.3832 - mae: 2.0014 - mse: 8.3832 - val_loss: 7.2986 - val_mae: 2.2330 - val_mse: 7.2986\n",
            "Epoch 158/200\n",
            "12/12 [==============================] - 0s 5ms/step - loss: 8.3883 - mae: 2.0030 - mse: 8.3883 - val_loss: 7.2293 - val_mae: 2.2299 - val_mse: 7.2293\n",
            "Epoch 159/200\n",
            "12/12 [==============================] - 0s 5ms/step - loss: 8.3432 - mae: 1.9893 - mse: 8.3432 - val_loss: 7.3432 - val_mae: 2.2800 - val_mse: 7.3432\n",
            "Epoch 160/200\n",
            "12/12 [==============================] - 0s 4ms/step - loss: 8.3498 - mae: 2.0056 - mse: 8.3498 - val_loss: 7.1671 - val_mae: 2.1946 - val_mse: 7.1671\n",
            "Epoch 161/200\n",
            "12/12 [==============================] - 0s 4ms/step - loss: 8.3615 - mae: 2.0096 - mse: 8.3615 - val_loss: 7.2307 - val_mae: 2.2256 - val_mse: 7.2307\n",
            "Epoch 162/200\n",
            "12/12 [==============================] - 0s 4ms/step - loss: 8.2781 - mae: 1.9816 - mse: 8.2781 - val_loss: 7.4950 - val_mae: 2.3433 - val_mse: 7.4950\n",
            "Epoch 163/200\n",
            "12/12 [==============================] - 0s 4ms/step - loss: 8.3376 - mae: 2.0005 - mse: 8.3376 - val_loss: 7.3188 - val_mae: 2.2718 - val_mse: 7.3188\n",
            "Epoch 164/200\n",
            "12/12 [==============================] - 0s 4ms/step - loss: 8.3247 - mae: 1.9838 - mse: 8.3247 - val_loss: 7.2943 - val_mae: 2.2562 - val_mse: 7.2943\n",
            "Epoch 165/200\n",
            "12/12 [==============================] - 0s 4ms/step - loss: 8.2779 - mae: 1.9848 - mse: 8.2779 - val_loss: 7.3334 - val_mae: 2.2623 - val_mse: 7.3334\n",
            "Epoch 166/200\n",
            "12/12 [==============================] - 0s 4ms/step - loss: 8.2586 - mae: 1.9841 - mse: 8.2586 - val_loss: 7.2000 - val_mae: 2.2336 - val_mse: 7.2000\n",
            "Epoch 167/200\n",
            "12/12 [==============================] - 0s 4ms/step - loss: 8.2512 - mae: 1.9769 - mse: 8.2512 - val_loss: 7.1312 - val_mae: 2.2115 - val_mse: 7.1312\n",
            "Epoch 168/200\n",
            "12/12 [==============================] - 0s 4ms/step - loss: 8.2599 - mae: 1.9874 - mse: 8.2599 - val_loss: 7.1837 - val_mae: 2.2254 - val_mse: 7.1837\n",
            "Epoch 169/200\n",
            "12/12 [==============================] - 0s 5ms/step - loss: 8.1883 - mae: 1.9843 - mse: 8.1883 - val_loss: 7.0881 - val_mae: 2.1830 - val_mse: 7.0881\n",
            "Epoch 170/200\n",
            "12/12 [==============================] - 0s 5ms/step - loss: 8.2057 - mae: 1.9735 - mse: 8.2057 - val_loss: 7.1705 - val_mae: 2.2231 - val_mse: 7.1705\n",
            "Epoch 171/200\n",
            "12/12 [==============================] - 0s 4ms/step - loss: 8.2090 - mae: 1.9803 - mse: 8.2090 - val_loss: 7.2300 - val_mae: 2.2410 - val_mse: 7.2300\n",
            "Epoch 172/200\n",
            "12/12 [==============================] - 0s 4ms/step - loss: 8.1812 - mae: 1.9815 - mse: 8.1812 - val_loss: 7.1261 - val_mae: 2.1925 - val_mse: 7.1261\n",
            "Epoch 173/200\n",
            "12/12 [==============================] - 0s 4ms/step - loss: 8.2316 - mae: 1.9870 - mse: 8.2316 - val_loss: 7.2066 - val_mae: 2.2473 - val_mse: 7.2066\n",
            "Epoch 174/200\n",
            "12/12 [==============================] - 0s 4ms/step - loss: 8.1600 - mae: 1.9725 - mse: 8.1600 - val_loss: 7.1610 - val_mae: 2.2260 - val_mse: 7.1610\n",
            "Epoch 175/200\n",
            "12/12 [==============================] - 0s 4ms/step - loss: 8.1104 - mae: 1.9567 - mse: 8.1104 - val_loss: 7.0827 - val_mae: 2.2042 - val_mse: 7.0827\n",
            "Epoch 176/200\n",
            "12/12 [==============================] - 0s 4ms/step - loss: 8.1056 - mae: 1.9668 - mse: 8.1056 - val_loss: 7.0387 - val_mae: 2.1767 - val_mse: 7.0387\n",
            "Epoch 177/200\n",
            "12/12 [==============================] - 0s 4ms/step - loss: 8.1023 - mae: 1.9718 - mse: 8.1023 - val_loss: 7.1267 - val_mae: 2.1748 - val_mse: 7.1267\n",
            "Epoch 178/200\n",
            "12/12 [==============================] - 0s 4ms/step - loss: 8.1491 - mae: 1.9789 - mse: 8.1491 - val_loss: 7.0901 - val_mae: 2.1841 - val_mse: 7.0901\n",
            "Epoch 179/200\n",
            "12/12 [==============================] - 0s 4ms/step - loss: 8.0813 - mae: 1.9648 - mse: 8.0813 - val_loss: 7.0384 - val_mae: 2.1538 - val_mse: 7.0384\n",
            "Epoch 180/200\n",
            "12/12 [==============================] - 0s 4ms/step - loss: 8.0899 - mae: 1.9598 - mse: 8.0899 - val_loss: 7.1744 - val_mae: 2.2297 - val_mse: 7.1744\n",
            "Epoch 181/200\n",
            "12/12 [==============================] - 0s 5ms/step - loss: 8.0770 - mae: 1.9636 - mse: 8.0770 - val_loss: 7.1225 - val_mae: 2.2219 - val_mse: 7.1225\n",
            "Epoch 182/200\n",
            "12/12 [==============================] - 0s 4ms/step - loss: 8.0940 - mae: 1.9667 - mse: 8.0940 - val_loss: 7.1399 - val_mae: 2.2320 - val_mse: 7.1399\n",
            "Epoch 183/200\n",
            "12/12 [==============================] - 0s 4ms/step - loss: 8.0608 - mae: 1.9745 - mse: 8.0608 - val_loss: 7.0710 - val_mae: 2.2058 - val_mse: 7.0710\n",
            "Epoch 184/200\n",
            "12/12 [==============================] - 0s 4ms/step - loss: 8.0269 - mae: 1.9624 - mse: 8.0269 - val_loss: 7.0696 - val_mae: 2.2201 - val_mse: 7.0696\n",
            "Epoch 185/200\n",
            "12/12 [==============================] - 0s 4ms/step - loss: 7.9720 - mae: 1.9546 - mse: 7.9720 - val_loss: 6.9982 - val_mae: 2.2020 - val_mse: 6.9982\n",
            "Epoch 186/200\n",
            "12/12 [==============================] - 0s 4ms/step - loss: 8.0251 - mae: 1.9546 - mse: 8.0251 - val_loss: 7.0438 - val_mae: 2.2193 - val_mse: 7.0438\n",
            "Epoch 187/200\n",
            "12/12 [==============================] - 0s 5ms/step - loss: 7.9717 - mae: 1.9450 - mse: 7.9717 - val_loss: 6.9789 - val_mae: 2.1860 - val_mse: 6.9789\n",
            "Epoch 188/200\n",
            "12/12 [==============================] - 0s 4ms/step - loss: 8.0309 - mae: 1.9563 - mse: 8.0309 - val_loss: 7.1904 - val_mae: 2.1732 - val_mse: 7.1904\n",
            "Epoch 189/200\n",
            "12/12 [==============================] - 0s 5ms/step - loss: 8.1698 - mae: 1.9999 - mse: 8.1698 - val_loss: 7.2049 - val_mae: 2.1646 - val_mse: 7.2049\n",
            "Epoch 190/200\n",
            "12/12 [==============================] - 0s 4ms/step - loss: 8.0380 - mae: 1.9839 - mse: 8.0380 - val_loss: 7.1246 - val_mae: 2.2181 - val_mse: 7.1246\n",
            "Epoch 191/200\n",
            "12/12 [==============================] - 0s 4ms/step - loss: 8.0417 - mae: 1.9718 - mse: 8.0417 - val_loss: 7.2349 - val_mae: 2.1959 - val_mse: 7.2349\n",
            "Epoch 192/200\n",
            "12/12 [==============================] - 0s 6ms/step - loss: 8.0026 - mae: 2.0059 - mse: 8.0026 - val_loss: 7.0983 - val_mae: 2.2011 - val_mse: 7.0983\n",
            "Epoch 193/200\n",
            "12/12 [==============================] - 0s 5ms/step - loss: 7.9183 - mae: 1.9628 - mse: 7.9183 - val_loss: 7.1249 - val_mae: 2.2232 - val_mse: 7.1249\n",
            "Epoch 194/200\n",
            "12/12 [==============================] - 0s 5ms/step - loss: 7.9231 - mae: 1.9478 - mse: 7.9231 - val_loss: 7.0207 - val_mae: 2.2000 - val_mse: 7.0207\n",
            "Epoch 195/200\n",
            "12/12 [==============================] - 0s 4ms/step - loss: 7.9286 - mae: 1.9550 - mse: 7.9286 - val_loss: 7.0580 - val_mae: 2.2323 - val_mse: 7.0580\n",
            "Epoch 196/200\n",
            "12/12 [==============================] - 0s 4ms/step - loss: 7.9590 - mae: 1.9603 - mse: 7.9590 - val_loss: 6.9776 - val_mae: 2.1898 - val_mse: 6.9776\n",
            "Epoch 197/200\n",
            "12/12 [==============================] - 0s 4ms/step - loss: 7.8959 - mae: 1.9620 - mse: 7.8959 - val_loss: 6.9243 - val_mae: 2.1839 - val_mse: 6.9243\n",
            "Epoch 198/200\n",
            "12/12 [==============================] - 0s 4ms/step - loss: 7.8748 - mae: 1.9524 - mse: 7.8748 - val_loss: 6.9824 - val_mae: 2.2094 - val_mse: 6.9824\n",
            "Epoch 199/200\n",
            "12/12 [==============================] - 0s 4ms/step - loss: 7.9085 - mae: 1.9606 - mse: 7.9085 - val_loss: 7.0849 - val_mae: 2.2463 - val_mse: 7.0849\n",
            "Epoch 200/200\n",
            "12/12 [==============================] - 0s 4ms/step - loss: 7.8604 - mae: 1.9509 - mse: 7.8604 - val_loss: 6.8980 - val_mae: 2.1598 - val_mse: 6.8980\n",
            "\n",
            "Final Root Mean Square Error on validation set: 1.47\n"
          ]
        }
      ]
    },
    {
      "cell_type": "code",
      "source": [
        "plt.rcParams['figure.figsize'] = [20, 10]\n",
        "def plot_history(hist):\n",
        "    plt.figure()\n",
        "    plt.xlabel('Epoch')\n",
        "    plt.ylabel('Mean Square Error [Thousand Dollars$^2$]')\n",
        "    plt.plot(hist['epoch'], hist['mse'], label='Train Mean Squared Error')\n",
        "    plt.plot(hist['epoch'], hist['val_mse'], label = 'Validation Mean Squared Error')\n",
        "    plt.legend()\n",
        "    plt.ylim([0,50])\n",
        "\n",
        "plot_history(hist)"
      ],
      "metadata": {
        "colab": {
          "base_uri": "https://localhost:8080/",
          "height": 610
        },
        "id": "b36azN03J-va",
        "outputId": "44986457-4dd2-43a6-d7ae-60b85ab611d9"
      },
      "execution_count": 9,
      "outputs": [
        {
          "output_type": "display_data",
          "data": {
            "text/plain": [
              "<Figure size 1440x720 with 1 Axes>"
            ],
            "image/png": "[encoded data removed]"
          },
          "metadata": {
            "needs_background": "light"
          }
        }
      ]
    },
    {
      "cell_type": "markdown",
      "source": [
        "Lets make a prediction now!"
      ],
      "metadata": {
        "id": "R4H26LGGO-4_"
      }
    },
    {
      "cell_type": "code",
      "source": [
        "sample_input = test_features[0]\n",
        "print(\"test Input:\", sample_input)\n",
        "prediction = dnn_model.predict( np.array( [sample_input,] ) )[0]\n",
        "print(\"Prediction:\", prediction[0])\n",
        "print(\"True value:\", test_labels[0])"
      ],
      "metadata": {
        "colab": {
          "base_uri": "https://localhost:8080/"
        },
        "id": "H_xmLU5MPKXi",
        "outputId": "ed34461d-0a81-4277-c578-dff3d4120c6b"
      },
      "execution_count": 10,
      "outputs": [
        {
          "output_type": "stream",
          "name": "stdout",
          "text": [
            "test Input: [ 18.0846   0.      18.1      0.       0.679    6.434  100.       1.8347\n",
            "  24.     666.      20.2     27.25    29.05  ]\n",
            "1/1 [==============================] - 0s 109ms/step\n",
            "Prediction: 2360.4436\n",
            "True value: 7.2\n"
          ]
        }
      ]
    },
    {
      "cell_type": "markdown",
      "source": [
        "If the error seems strange - don't forget that we normalized the input data!\n",
        "While we have access to the test data, in an actual use case, we have no control over what data we process. As such, we normalize the inputs on the test data's mean and standard deviation"
      ],
      "metadata": {
        "id": "hEw0YPcTQtQX"
      }
    },
    {
      "cell_type": "code",
      "source": [
        "test_features_norm = (test_features - train_mean) / train_std"
      ],
      "metadata": {
        "id": "f3zKds8ZRSly"
      },
      "execution_count": 11,
      "outputs": []
    },
    {
      "cell_type": "code",
      "source": [
        "sample_input = test_features_norm[0]\n",
        "print(\"test Input:\", sample_input)\n",
        "prediction = dnn_model.predict( np.array( [sample_input,] ) )[0]\n",
        "print(\"Prediction:\", prediction[0])\n",
        "print(\"True value:\", test_labels[0])"
      ],
      "metadata": {
        "colab": {
          "base_uri": "https://localhost:8080/"
        },
        "id": "WJrN4Q7DRUie",
        "outputId": "57d60be6-13b0-413c-c433-97c542a94252"
      },
      "execution_count": 12,
      "outputs": [
        {
          "output_type": "stream",
          "name": "stdout",
          "text": [
            "test Input: [ 1.55369355 -0.48361547  1.0283258  -0.25683275  1.03838067  0.23545815\n",
            "  1.11048828 -0.93976936  1.67588577  1.5652875   0.78447637 -3.48459553\n",
            "  2.25092074]\n",
            "1/1 [==============================] - 0s 18ms/step\n",
            "Prediction: 7.8942785\n",
            "True value: 7.2\n"
          ]
        }
      ]
    },
    {
      "cell_type": "markdown",
      "source": [
        "Much better :)\n",
        "\n",
        "To wrap things up, lets compute our performance on the entire test dataset"
      ],
      "metadata": {
        "id": "BQtr734gRa3m"
      }
    },
    {
      "cell_type": "code",
      "source": [
        "mse, _, _ = dnn_model.evaluate(test_features_norm, test_labels)\n",
        "rmse = np.sqrt(mse)\n",
        "print('Root Mean Square Error on test set: {}'.format(round(rmse, 3)))"
      ],
      "metadata": {
        "colab": {
          "base_uri": "https://localhost:8080/"
        },
        "id": "2Br5sEPyPBFs",
        "outputId": "de3a18be-cc03-4678-d5a0-e3699a903700"
      },
      "execution_count": 13,
      "outputs": [
        {
          "output_type": "stream",
          "name": "stdout",
          "text": [
            "4/4 [==============================] - 0s 3ms/step - loss: 19.5403 - mae: 2.8712 - mse: 19.5403\n",
            "Root Mean Square Error on test set: 4.42\n"
          ]
        }
      ]
    },
    {
      "cell_type": "code",
      "source": [],
      "metadata": {
        "id": "bjlgTvfe-zmP"
      },
      "execution_count": 13,
      "outputs": []
    }
  ]
}